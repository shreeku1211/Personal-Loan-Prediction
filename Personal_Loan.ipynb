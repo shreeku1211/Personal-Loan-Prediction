{
 "cells": [
  {
   "cell_type": "markdown",
   "id": "3f8204a2",
   "metadata": {},
   "source": [
    "# PERSONAL LOAN PREDICTION"
   ]
  },
  {
   "cell_type": "markdown",
   "id": "3ecf4523",
   "metadata": {},
   "source": [
    "Introduction\n",
    "\n",
    "Data Set\n",
    "\n",
    "Project Overview\n",
    "\n",
    "Project Motivation\n",
    "\n",
    "Gatgering Data\n",
    "\n",
    "Exploratory Data Analysis\n",
    "\n",
    "ModellingConclusion"
   ]
  },
  {
   "cell_type": "markdown",
   "id": "dd0f2537",
   "metadata": {},
   "source": [
    "# INTRODUCTION\n",
    "\n",
    "In this project we are going to predict which customer will take personal loan. \n",
    "we will use classification algorithms to differentiate people with buy loan vs the who will\n",
    "not"
   ]
  },
  {
   "cell_type": "markdown",
   "id": "7238cec8",
   "metadata": {},
   "source": [
    "# DATA SET\n",
    "\n",
    "The files contains data of 5000 customers.The data include customer demographic\n",
    "information(age , income etc.) , customer relationship with bank and customers response on\n",
    "campaign on personal loan.\n"
   ]
  },
  {
   "cell_type": "markdown",
   "id": "3d8d8f35",
   "metadata": {},
   "source": [
    "# PROJECT OBJECTIVE\n",
    "\n",
    "Client is interested in understanding the leading indicator for interested customers for personal\n",
    "loan.This will enable them to take pre-emptive action such offering better plans to encouraging\n",
    "them to take personal loan.\n"
   ]
  },
  {
   "cell_type": "code",
   "execution_count": 1,
   "id": "670de9b3",
   "metadata": {},
   "outputs": [
    {
     "name": "stdout",
     "output_type": "stream",
     "text": [
      "Libraries imported\n"
     ]
    }
   ],
   "source": [
    "# IMPORTING LIBRARIES\n",
    "import numpy as np\n",
    "import pandas as pd\n",
    "import seaborn as sns\n",
    "import plotly.express as px\n",
    "import matplotlib.pyplot as plt\n",
    "import warnings\n",
    "warnings.filterwarnings('ignore')\n",
    "print('Libraries imported')"
   ]
  },
  {
   "cell_type": "markdown",
   "id": "baf1e15b",
   "metadata": {},
   "source": [
    "# Gathering Data"
   ]
  },
  {
   "cell_type": "code",
   "execution_count": 2,
   "id": "331dbe9f",
   "metadata": {},
   "outputs": [],
   "source": [
    "bank_df = pd.read_csv('Bank_Personal_Loan_Modelling.csv')\n",
    "df = bank_df.copy()"
   ]
  },
  {
   "cell_type": "code",
   "execution_count": 3,
   "id": "ae2c5944",
   "metadata": {},
   "outputs": [
    {
     "name": "stdout",
     "output_type": "stream",
     "text": [
      "Shape of data(5000, 14)\n",
      "Number of rows:5000\n",
      "Number of columns:14\n"
     ]
    }
   ],
   "source": [
    "print('Shape of data{}'.format(df.shape))\n",
    "print(\"Number of rows:{}\".format(df.shape[0]))\n",
    "print(\"Number of columns:{}\".format(df.shape[1]))"
   ]
  },
  {
   "cell_type": "code",
   "execution_count": 4,
   "id": "122b237b",
   "metadata": {},
   "outputs": [
    {
     "name": "stdout",
     "output_type": "stream",
     "text": [
      "<class 'pandas.core.frame.DataFrame'>\n",
      "RangeIndex: 5000 entries, 0 to 4999\n",
      "Data columns (total 14 columns):\n",
      " #   Column              Non-Null Count  Dtype  \n",
      "---  ------              --------------  -----  \n",
      " 0   ID                  5000 non-null   int64  \n",
      " 1   Age                 5000 non-null   int64  \n",
      " 2   Experience          5000 non-null   int64  \n",
      " 3   Income              5000 non-null   int64  \n",
      " 4   ZIP Code            5000 non-null   int64  \n",
      " 5   Family              5000 non-null   int64  \n",
      " 6   CCAvg               5000 non-null   float64\n",
      " 7   Education           5000 non-null   int64  \n",
      " 8   Mortgage            5000 non-null   int64  \n",
      " 9   Personal Loan       5000 non-null   int64  \n",
      " 10  Securities Account  5000 non-null   int64  \n",
      " 11  CD Account          5000 non-null   int64  \n",
      " 12  Online              5000 non-null   int64  \n",
      " 13  CreditCard          5000 non-null   int64  \n",
      "dtypes: float64(1), int64(13)\n",
      "memory usage: 547.0 KB\n"
     ]
    }
   ],
   "source": [
    "df.info()"
   ]
  },
  {
   "cell_type": "markdown",
   "id": "ebc81acb",
   "metadata": {},
   "source": [
    "# Observation : \n",
    "There are 13 features and 5000 entires, all non-null. all features are numerical\n",
    "features, and of them, Education , Mortagage , Securities Account ,CD Account ,\n",
    "Online ,Credit Card , Personal Loan is a numerical categorical feature."
   ]
  },
  {
   "cell_type": "markdown",
   "id": "68b4a76e",
   "metadata": {},
   "source": [
    "# Missings and Duplicate Values"
   ]
  },
  {
   "cell_type": "code",
   "execution_count": 5,
   "id": "ac2da98f",
   "metadata": {},
   "outputs": [
    {
     "name": "stdout",
     "output_type": "stream",
     "text": [
      "ID                    0\n",
      "Age                   0\n",
      "Experience            0\n",
      "Income                0\n",
      "ZIP Code              0\n",
      "Family                0\n",
      "CCAvg                 0\n",
      "Education             0\n",
      "Mortgage              0\n",
      "Personal Loan         0\n",
      "Securities Account    0\n",
      "CD Account            0\n",
      "Online                0\n",
      "CreditCard            0\n",
      "dtype: int64\n",
      "duplicate values in df are 0\n",
      "duplicates dropped\n"
     ]
    }
   ],
   "source": [
    "print(df.isna().sum().sort_values(ascending = False))\n",
    "print('duplicate values in df are' ,df.duplicated().sum() )\n",
    "print('duplicates dropped')"
   ]
  },
  {
   "cell_type": "markdown",
   "id": "00b110cf",
   "metadata": {},
   "source": [
    "Missing Data - Here we don't have any missing data:\n",
    "\n",
    "1 . For features with less missing values we can use regression to predict the missing values or fill\n",
    "    with the mean of the values present, depending on the feature.\n",
    "\n",
    "2 . For features with very high number of missing values- it is better to drop those columns as\n",
    "    they give very less insight on analysis. As there's no thumb rule on what criteria do we delete\n",
    "    the columns with high number of missing values, but generally we can delete the columns, if\n",
    "    we have more than 30-40% of missing value"
   ]
  },
  {
   "cell_type": "code",
   "execution_count": 6,
   "id": "3f287874",
   "metadata": {
    "scrolled": true
   },
   "outputs": [
    {
     "data": {
      "text/html": [
       "<div>\n",
       "<style scoped>\n",
       "    .dataframe tbody tr th:only-of-type {\n",
       "        vertical-align: middle;\n",
       "    }\n",
       "\n",
       "    .dataframe tbody tr th {\n",
       "        vertical-align: top;\n",
       "    }\n",
       "\n",
       "    .dataframe thead th {\n",
       "        text-align: right;\n",
       "    }\n",
       "</style>\n",
       "<table border=\"1\" class=\"dataframe\">\n",
       "  <thead>\n",
       "    <tr style=\"text-align: right;\">\n",
       "      <th></th>\n",
       "      <th>ID</th>\n",
       "      <th>Age</th>\n",
       "      <th>Experience</th>\n",
       "      <th>Income</th>\n",
       "      <th>ZIP Code</th>\n",
       "      <th>Family</th>\n",
       "      <th>CCAvg</th>\n",
       "      <th>Education</th>\n",
       "      <th>Mortgage</th>\n",
       "      <th>Personal Loan</th>\n",
       "      <th>Securities Account</th>\n",
       "      <th>CD Account</th>\n",
       "      <th>Online</th>\n",
       "      <th>CreditCard</th>\n",
       "    </tr>\n",
       "  </thead>\n",
       "  <tbody>\n",
       "    <tr>\n",
       "      <th>count</th>\n",
       "      <td>5000.000000</td>\n",
       "      <td>5000.000000</td>\n",
       "      <td>5000.000000</td>\n",
       "      <td>5000.000000</td>\n",
       "      <td>5000.000000</td>\n",
       "      <td>5000.000000</td>\n",
       "      <td>5000.000000</td>\n",
       "      <td>5000.000000</td>\n",
       "      <td>5000.000000</td>\n",
       "      <td>5000.000000</td>\n",
       "      <td>5000.000000</td>\n",
       "      <td>5000.00000</td>\n",
       "      <td>5000.000000</td>\n",
       "      <td>5000.000000</td>\n",
       "    </tr>\n",
       "    <tr>\n",
       "      <th>mean</th>\n",
       "      <td>2500.500000</td>\n",
       "      <td>45.338400</td>\n",
       "      <td>20.104600</td>\n",
       "      <td>73.774200</td>\n",
       "      <td>93152.503000</td>\n",
       "      <td>2.396400</td>\n",
       "      <td>1.937938</td>\n",
       "      <td>1.881000</td>\n",
       "      <td>56.498800</td>\n",
       "      <td>0.096000</td>\n",
       "      <td>0.104400</td>\n",
       "      <td>0.06040</td>\n",
       "      <td>0.596800</td>\n",
       "      <td>0.294000</td>\n",
       "    </tr>\n",
       "    <tr>\n",
       "      <th>std</th>\n",
       "      <td>1443.520003</td>\n",
       "      <td>11.463166</td>\n",
       "      <td>11.467954</td>\n",
       "      <td>46.033729</td>\n",
       "      <td>2121.852197</td>\n",
       "      <td>1.147663</td>\n",
       "      <td>1.747659</td>\n",
       "      <td>0.839869</td>\n",
       "      <td>101.713802</td>\n",
       "      <td>0.294621</td>\n",
       "      <td>0.305809</td>\n",
       "      <td>0.23825</td>\n",
       "      <td>0.490589</td>\n",
       "      <td>0.455637</td>\n",
       "    </tr>\n",
       "    <tr>\n",
       "      <th>min</th>\n",
       "      <td>1.000000</td>\n",
       "      <td>23.000000</td>\n",
       "      <td>-3.000000</td>\n",
       "      <td>8.000000</td>\n",
       "      <td>9307.000000</td>\n",
       "      <td>1.000000</td>\n",
       "      <td>0.000000</td>\n",
       "      <td>1.000000</td>\n",
       "      <td>0.000000</td>\n",
       "      <td>0.000000</td>\n",
       "      <td>0.000000</td>\n",
       "      <td>0.00000</td>\n",
       "      <td>0.000000</td>\n",
       "      <td>0.000000</td>\n",
       "    </tr>\n",
       "    <tr>\n",
       "      <th>25%</th>\n",
       "      <td>1250.750000</td>\n",
       "      <td>35.000000</td>\n",
       "      <td>10.000000</td>\n",
       "      <td>39.000000</td>\n",
       "      <td>91911.000000</td>\n",
       "      <td>1.000000</td>\n",
       "      <td>0.700000</td>\n",
       "      <td>1.000000</td>\n",
       "      <td>0.000000</td>\n",
       "      <td>0.000000</td>\n",
       "      <td>0.000000</td>\n",
       "      <td>0.00000</td>\n",
       "      <td>0.000000</td>\n",
       "      <td>0.000000</td>\n",
       "    </tr>\n",
       "    <tr>\n",
       "      <th>50%</th>\n",
       "      <td>2500.500000</td>\n",
       "      <td>45.000000</td>\n",
       "      <td>20.000000</td>\n",
       "      <td>64.000000</td>\n",
       "      <td>93437.000000</td>\n",
       "      <td>2.000000</td>\n",
       "      <td>1.500000</td>\n",
       "      <td>2.000000</td>\n",
       "      <td>0.000000</td>\n",
       "      <td>0.000000</td>\n",
       "      <td>0.000000</td>\n",
       "      <td>0.00000</td>\n",
       "      <td>1.000000</td>\n",
       "      <td>0.000000</td>\n",
       "    </tr>\n",
       "    <tr>\n",
       "      <th>75%</th>\n",
       "      <td>3750.250000</td>\n",
       "      <td>55.000000</td>\n",
       "      <td>30.000000</td>\n",
       "      <td>98.000000</td>\n",
       "      <td>94608.000000</td>\n",
       "      <td>3.000000</td>\n",
       "      <td>2.500000</td>\n",
       "      <td>3.000000</td>\n",
       "      <td>101.000000</td>\n",
       "      <td>0.000000</td>\n",
       "      <td>0.000000</td>\n",
       "      <td>0.00000</td>\n",
       "      <td>1.000000</td>\n",
       "      <td>1.000000</td>\n",
       "    </tr>\n",
       "    <tr>\n",
       "      <th>max</th>\n",
       "      <td>5000.000000</td>\n",
       "      <td>67.000000</td>\n",
       "      <td>43.000000</td>\n",
       "      <td>224.000000</td>\n",
       "      <td>96651.000000</td>\n",
       "      <td>4.000000</td>\n",
       "      <td>10.000000</td>\n",
       "      <td>3.000000</td>\n",
       "      <td>635.000000</td>\n",
       "      <td>1.000000</td>\n",
       "      <td>1.000000</td>\n",
       "      <td>1.00000</td>\n",
       "      <td>1.000000</td>\n",
       "      <td>1.000000</td>\n",
       "    </tr>\n",
       "  </tbody>\n",
       "</table>\n",
       "</div>"
      ],
      "text/plain": [
       "                ID          Age   Experience       Income      ZIP Code  \\\n",
       "count  5000.000000  5000.000000  5000.000000  5000.000000   5000.000000   \n",
       "mean   2500.500000    45.338400    20.104600    73.774200  93152.503000   \n",
       "std    1443.520003    11.463166    11.467954    46.033729   2121.852197   \n",
       "min       1.000000    23.000000    -3.000000     8.000000   9307.000000   \n",
       "25%    1250.750000    35.000000    10.000000    39.000000  91911.000000   \n",
       "50%    2500.500000    45.000000    20.000000    64.000000  93437.000000   \n",
       "75%    3750.250000    55.000000    30.000000    98.000000  94608.000000   \n",
       "max    5000.000000    67.000000    43.000000   224.000000  96651.000000   \n",
       "\n",
       "            Family        CCAvg    Education     Mortgage  Personal Loan  \\\n",
       "count  5000.000000  5000.000000  5000.000000  5000.000000    5000.000000   \n",
       "mean      2.396400     1.937938     1.881000    56.498800       0.096000   \n",
       "std       1.147663     1.747659     0.839869   101.713802       0.294621   \n",
       "min       1.000000     0.000000     1.000000     0.000000       0.000000   \n",
       "25%       1.000000     0.700000     1.000000     0.000000       0.000000   \n",
       "50%       2.000000     1.500000     2.000000     0.000000       0.000000   \n",
       "75%       3.000000     2.500000     3.000000   101.000000       0.000000   \n",
       "max       4.000000    10.000000     3.000000   635.000000       1.000000   \n",
       "\n",
       "       Securities Account  CD Account       Online   CreditCard  \n",
       "count         5000.000000  5000.00000  5000.000000  5000.000000  \n",
       "mean             0.104400     0.06040     0.596800     0.294000  \n",
       "std              0.305809     0.23825     0.490589     0.455637  \n",
       "min              0.000000     0.00000     0.000000     0.000000  \n",
       "25%              0.000000     0.00000     0.000000     0.000000  \n",
       "50%              0.000000     0.00000     1.000000     0.000000  \n",
       "75%              0.000000     0.00000     1.000000     1.000000  \n",
       "max              1.000000     1.00000     1.000000     1.000000  "
      ]
     },
     "execution_count": 6,
     "metadata": {},
     "output_type": "execute_result"
    }
   ],
   "source": [
    "df.describe()"
   ]
  },
  {
   "cell_type": "code",
   "execution_count": 7,
   "id": "f638a68e",
   "metadata": {},
   "outputs": [
    {
     "data": {
      "text/plain": [
       "Index(['ID', 'Age', 'Experience', 'Income', 'ZIP Code', 'Family', 'CCAvg',\n",
       "       'Education', 'Mortgage', 'Personal Loan', 'Securities Account',\n",
       "       'CD Account', 'Online', 'CreditCard'],\n",
       "      dtype='object')"
      ]
     },
     "execution_count": 7,
     "metadata": {},
     "output_type": "execute_result"
    }
   ],
   "source": [
    "df.columns"
   ]
  },
  {
   "cell_type": "markdown",
   "id": "fcaf2c33",
   "metadata": {},
   "source": [
    "# Dropping Unnecessary columns 'ID' and 'ZIP Code'"
   ]
  },
  {
   "cell_type": "code",
   "execution_count": 8,
   "id": "0bd54086",
   "metadata": {},
   "outputs": [],
   "source": [
    "df.drop(columns = ['ID' , 'ZIP Code'] , axis = 1 , inplace =True)"
   ]
  },
  {
   "cell_type": "markdown",
   "id": "5c0c07eb",
   "metadata": {},
   "source": [
    "# Target Varaible is :Personal Loan"
   ]
  },
  {
   "cell_type": "code",
   "execution_count": 9,
   "id": "d2c472fa",
   "metadata": {},
   "outputs": [
    {
     "name": "stdout",
     "output_type": "stream",
     "text": [
      "loan = (array([0, 1], dtype=int64), array([4520,  480], dtype=int64))\n",
      "\n"
     ]
    }
   ],
   "source": [
    "#create counts of df for plotting categorical variables\n",
    "loan = np.unique(df['Personal Loan'], return_counts=True)\n",
    "print('loan = {}\\n'.format(loan))"
   ]
  },
  {
   "cell_type": "code",
   "execution_count": 10,
   "id": "2e6beb61",
   "metadata": {},
   "outputs": [],
   "source": [
    "# create fontdicts for formatting figure text\n",
    "title_dict={'family':'serif','color':'red','weight':'bold','size':16}\n",
    "lab_dict={'family':'serif','color':'black','size':14}"
   ]
  },
  {
   "cell_type": "code",
   "execution_count": 11,
   "id": "24c8eb2f",
   "metadata": {},
   "outputs": [
    {
     "data": {
      "image/png": "[encoded data removed]",
      "text/plain": [
       "<Figure size 1152x1080 with 1 Axes>"
      ]
     },
     "metadata": {
      "needs_background": "light"
     },
     "output_type": "display_data"
    }
   ],
   "source": [
    "# display a frequency distribution for personal loan\n",
    "fig=plt.figure(figsize=(16,15))\n",
    "axis=fig.add_subplot(3,3,2)\n",
    "sns.barplot(x=list(loan[0]),y=list(loan[1]))\n",
    "axis.set_title('loan',fontdict=title_dict)\n",
    "axis.set_xlabel('loan',fontdict=lab_dict)\n",
    "axis.set_ylabel('Count',fontdict=lab_dict)\n",
    "axis.bar_label(axis.containers[0])\n",
    "plt.show()"
   ]
  },
  {
   "cell_type": "markdown",
   "id": "a2bf3d97",
   "metadata": {},
   "source": [
    "Data is Highly Imblanaced.majority of the data are class 0.Imblanaced ratio is 90:10.out of 5000 data 4520 is for not opting personal loan and 480 is for personal loan.\n",
    "\n",
    "Filtering Numericals and Categoricals columns:"
   ]
  },
  {
   "cell_type": "code",
   "execution_count": 12,
   "id": "857a01b2",
   "metadata": {},
   "outputs": [
    {
     "name": "stdout",
     "output_type": "stream",
     "text": [
      "categ numericals columns are ['Family', 'Education', 'Securities Account', 'CD Account', 'Online', 'CreditCard']\n"
     ]
    }
   ],
   "source": [
    "categ_columns = []\n",
    "for col in df.columns:\n",
    "    if df[col].nunique()<=5:\n",
    "        if col!='Personal Loan':\n",
    "            categ_columns.append(col) \n",
    "print('categ numericals columns are {}'.format(categ_columns))"
   ]
  },
  {
   "cell_type": "code",
   "execution_count": 13,
   "id": "d154ca6b",
   "metadata": {},
   "outputs": [
    {
     "name": "stdout",
     "output_type": "stream",
     "text": [
      "numericals columns are ['Age', 'Experience', 'Income', 'CCAvg', 'Mortgage', 'Personal Loan']\n"
     ]
    },
    {
     "data": {
      "text/plain": [
       "['Age', 'Experience', 'Income', 'CCAvg', 'Mortgage']"
      ]
     },
     "execution_count": 13,
     "metadata": {},
     "output_type": "execute_result"
    }
   ],
   "source": [
    "Num_cols = [col for col in df.columns if col not in categ_columns]\n",
    "print('numericals columns are {}'.format(Num_cols)) \n",
    "Num_cols.pop() #Removing Personal Loan\n",
    "Num_cols"
   ]
  },
  {
   "cell_type": "markdown",
   "id": "959a5a2e",
   "metadata": {},
   "source": [
    "# EDA"
   ]
  },
  {
   "cell_type": "code",
   "execution_count": 14,
   "id": "bfc5e7c0",
   "metadata": {},
   "outputs": [
    {
     "name": "stdout",
     "output_type": "stream",
     "text": [
      "Online_account = (array([0, 1], dtype=int64), array([2016, 2984], dtype=int64))\n",
      "\n"
     ]
    }
   ],
   "source": [
    "#create counts of df for plotting categorical variables\n",
    "Online_account = np.unique(df['Online'], return_counts=True)\n",
    "print('Online_account = {}\\n'.format(Online_account))"
   ]
  },
  {
   "cell_type": "code",
   "execution_count": 15,
   "id": "333699b5",
   "metadata": {},
   "outputs": [
    {
     "data": {
      "image/png": "[encoded data removed]",
      "text/plain": [
       "<Figure size 1152x1080 with 1 Axes>"
      ]
     },
     "metadata": {
      "needs_background": "light"
     },
     "output_type": "display_data"
    }
   ],
   "source": [
    "fig=plt.figure(figsize=(16,15))\n",
    "ax1=fig.add_subplot(3,3,2)\n",
    "sns.barplot(x=list(Online_account[0]),y=list(Online_account[1]))\n",
    "ax1.set_title('Online_account',fontdict=title_dict)\n",
    "ax1.set_xlabel('Online_account',fontdict=lab_dict)\n",
    "ax1.set_ylabel('Count',fontdict=lab_dict)\n",
    "ax1.bar_label(ax1.containers[0])\n",
    "plt.show()"
   ]
  },
  {
   "cell_type": "code",
   "execution_count": 16,
   "id": "4423f3ff",
   "metadata": {},
   "outputs": [],
   "source": [
    "colours = ['forestgreen','dodgerblue','goldenrod', 'coral' , 'silver' , 'gold' , 'dodgerblue'];"
   ]
  },
  {
   "cell_type": "code",
   "execution_count": 17,
   "id": "5e41a2d4",
   "metadata": {},
   "outputs": [
    {
     "data": {
      "text/plain": [
       "Age           False\n",
       "Experience    False\n",
       "Income         True\n",
       "CCAvg          True\n",
       "Mortgage       True\n",
       "dtype: bool"
      ]
     },
     "execution_count": 17,
     "metadata": {},
     "output_type": "execute_result"
    }
   ],
   "source": [
    "# Check of outliers by applying the IQR method checking if values are way outside\n",
    "# numerical_features = [\"tenure\", \"MonthlyCharges\", \"TotalCharges\"]\n",
    "df_num = df[Num_cols]\n",
    "df_num.describe()\n",
    "Q1 = df_num.quantile(0.25)\n",
    "Q3 = df_num.quantile(0.75)\n",
    "IQR = Q3 - Q1\n",
    "IQR\n",
    "((df_num < (Q1 - 1.5 * IQR)) | (df_num > (Q3 + 1.5 * IQR))).any()"
   ]
  },
  {
   "cell_type": "markdown",
   "id": "587799b8",
   "metadata": {},
   "source": [
    "Income , CCAvg , Mortgage have outliers"
   ]
  },
  {
   "cell_type": "code",
   "execution_count": 18,
   "id": "158890b2",
   "metadata": {},
   "outputs": [
    {
     "data": {
      "text/plain": [
       "<AxesSubplot:xlabel='Age'>"
      ]
     },
     "execution_count": 18,
     "metadata": {},
     "output_type": "execute_result"
    },
    {
     "data": {
      "image/png": "[encoded data removed]",
      "text/plain": [
       "<Figure size 432x288 with 1 Axes>"
      ]
     },
     "metadata": {
      "needs_background": "light"
     },
     "output_type": "display_data"
    }
   ],
   "source": [
    "sns.boxplot(data=df,x=df['Age'])"
   ]
  },
  {
   "cell_type": "markdown",
   "id": "bd959df1",
   "metadata": {},
   "source": [
    "# Visualization of outliers using box plot"
   ]
  },
  {
   "cell_type": "code",
   "execution_count": 19,
   "id": "d0933830",
   "metadata": {},
   "outputs": [
    {
     "data": {
      "image/png": "[encoded data removed]",
      "text/plain": [
       "<Figure size 576x576 with 5 Axes>"
      ]
     },
     "metadata": {
      "needs_background": "light"
     },
     "output_type": "display_data"
    }
   ],
   "source": [
    "fig = plt.figure(figsize=[8,8])\n",
    "fig.suptitle('BOXPLOT DATA', fontsize=12)\n",
    "fig.subplots_adjust(top=0.92)\n",
    "fig.subplots_adjust(hspace=0.5, wspace=0.4)\n",
    "\n",
    "for i ,col in enumerate(Num_cols):  \n",
    "    ax1 = fig.add_subplot(3, 2, i+1)\n",
    "    ax1 = sns.boxplot(data = df, x=col ,  color= colours[i])\n",
    " \n",
    "    ax1.set_title(f'{col}', fontdict=title_dict) \n",
    "    ax1.set_xlabel(f'{col}', fontdict=lab_dict)"
   ]
  },
  {
   "cell_type": "markdown",
   "id": "5eb49d91",
   "metadata": {},
   "source": [
    "# Outliers Detection"
   ]
  },
  {
   "cell_type": "code",
   "execution_count": 20,
   "id": "cdf33c71",
   "metadata": {},
   "outputs": [],
   "source": [
    "# Finding the IQR For Budget columns\n",
    "dict = {}\n",
    "for col in ['Income' , 'CCAvg' , 'Mortgage']:\n",
    "    percentile25 = df[col].quantile(0.25)\n",
    "    percentile75 = df[col].quantile(0.75)\n",
    "    IQR  = percentile75 - percentile25 \n",
    "    upper_limit = percentile75 + 1.5 * IQR \n",
    "    lower_limit = percentile25 - 1.5 * IQR\n",
    "    dict['upper_limit'+ '_' + col] = upper_limit\n",
    "    dict['lower_limit'+ '_' + col] = lower_limit "
   ]
  },
  {
   "cell_type": "markdown",
   "id": "e8a3ae77",
   "metadata": {},
   "source": [
    "In Above code cell i just created a dictionary to keep upper_limit and lower_limit of Income,CCAvg , Mortgage."
   ]
  },
  {
   "cell_type": "code",
   "execution_count": 21,
   "id": "65399a25",
   "metadata": {},
   "outputs": [
    {
     "data": {
      "text/plain": [
       "{'upper_limit_Income': 186.5,\n",
       " 'lower_limit_Income': -49.5,\n",
       " 'upper_limit_CCAvg': 5.2,\n",
       " 'lower_limit_CCAvg': -2.0,\n",
       " 'upper_limit_Mortgage': 252.5,\n",
       " 'lower_limit_Mortgage': -151.5}"
      ]
     },
     "execution_count": 21,
     "metadata": {},
     "output_type": "execute_result"
    }
   ],
   "source": [
    "dict"
   ]
  },
  {
   "cell_type": "code",
   "execution_count": 22,
   "id": "8e58175b",
   "metadata": {},
   "outputs": [],
   "source": [
    "for col in ['Income' , 'CCAvg' , 'Mortgage']:\n",
    "    df[col] = np.where(df[col] > dict['upper_limit_' + col],dict['upper_limit_' + col],np.where(df[col] < dict['lower_limit_' + col],dict['lower_limit_' + col],\n",
    "            df[col]))"
   ]
  },
  {
   "cell_type": "code",
   "execution_count": 23,
   "id": "84218a79",
   "metadata": {},
   "outputs": [
    {
     "name": "stdout",
     "output_type": "stream",
     "text": [
      "There are total 0 Customers data which Income are less than lower limit.\n",
      "There are total 0 Customers data which Income are more than upper limit.\n",
      "There are total 0 Customers data which CCAvg are less than lower limit.\n",
      "There are total 0 Customers data which CCAvg are more than upper limit.\n",
      "There are total 0 Customers data which Mortgage are less than lower limit.\n",
      "There are total 0 Customers data which Mortgage are more than upper limit.\n"
     ]
    }
   ],
   "source": [
    "for col in ['Income' , 'CCAvg' , 'Mortgage']:\n",
    "    print('There are total {} Customers data which {} are less than lower limit.'.format(len(df[df[col] < dict['lower_limit_' + col]] ) , col))\n",
    "    print('There are total {} Customers data which {} are more than upper limit.'.format(len(df[df[col] > dict['upper_limit_' + col]] ) , col))"
   ]
  },
  {
   "cell_type": "markdown",
   "id": "a8d6d259",
   "metadata": {},
   "source": [
    "Capping Income , CCAvg and Mortgage with upper limit and lower limit."
   ]
  },
  {
   "cell_type": "markdown",
   "id": "abd6b78a",
   "metadata": {},
   "source": [
    "# After Outliers treatment"
   ]
  },
  {
   "cell_type": "code",
   "execution_count": 24,
   "id": "79dedaf2",
   "metadata": {},
   "outputs": [
    {
     "data": {
      "image/png": "[encoded data removed]",
      "text/plain": [
       "<Figure size 576x576 with 3 Axes>"
      ]
     },
     "metadata": {
      "needs_background": "light"
     },
     "output_type": "display_data"
    }
   ],
   "source": [
    "fig = plt.figure(figsize=[8,8])\n",
    "fig.suptitle('BOXPLOT DATA', fontsize=12)\n",
    "fig.subplots_adjust(top=0.92)\n",
    "fig.subplots_adjust(hspace=0.5, wspace=0.4)\n",
    "\n",
    "for i ,col in enumerate(['Income' , 'CCAvg' , 'Mortgage']):  \n",
    "    ax1 = fig.add_subplot(3, 2, i+1)\n",
    "    ax1 = sns.boxplot(data = df, x=col ,  color= colours[i])\n",
    " \n",
    "    ax1.set_title(f'{col}', fontdict=title_dict) \n",
    "    ax1.set_xlabel(f'{col}', fontdict=lab_dict)"
   ]
  },
  {
   "cell_type": "markdown",
   "id": "58ca714d",
   "metadata": {},
   "source": [
    "# Bivariate analysis"
   ]
  },
  {
   "cell_type": "code",
   "execution_count": 25,
   "id": "573db483",
   "metadata": {},
   "outputs": [
    {
     "data": {
      "image/png": "[encoded data removed]",
      "text/plain": [
       "<Figure size 1152x864 with 6 Axes>"
      ]
     },
     "metadata": {
      "needs_background": "light"
     },
     "output_type": "display_data"
    }
   ],
   "source": [
    "#create figure with 3 x 3 grid of subplots\n",
    "fig = plt.figure(figsize=[16,12])\n",
    "fig.suptitle('Bivariate Analysis', fontsize=18, fontweight='bold')\n",
    "fig.subplots_adjust(top=0.92);\n",
    "fig.subplots_adjust(hspace=0.5, wspace=0.4);\n",
    "for i ,col in enumerate(categ_columns):\n",
    "    a = fig.add_subplot(3, 3, i+1)\n",
    "    a=sns.countplot(x = df[col] , ax=a , hue = df['Personal Loan'] )\n",
    "    a.set_title(col , fontdict=title_dict)\n",
    "    a.bar_label(a.containers[0] , label_type='center') \n",
    "    a.bar_label(a.containers[1] , label_type='center')\n",
    "    a.legend(fontsize=15)"
   ]
  },
  {
   "cell_type": "markdown",
   "id": "a17df8cd",
   "metadata": {},
   "source": [
    "Plot Insights:\n",
    "\n",
    "Highly educated customers seem to much interested in personal loan than lower educated customers.\n",
    "\n",
    "Customers without securites account seem to more interseted than not securities account customers in personal loan.\n",
    "\n",
    "Customers with CD Account have higher probablity to take personal loan.in bar graph you can clearly see out of 163 cd account customers 140 is taken personal loan.\n",
    "\n",
    "Customers with Online internet banking are more intersted than non online customers in personal loan.\n",
    "\n",
    "Customers without Credit Card have much higher chance to take personal loan."
   ]
  },
  {
   "cell_type": "code",
   "execution_count": 26,
   "id": "acccf76d",
   "metadata": {},
   "outputs": [
    {
     "data": {
      "image/png": "[encoded data removed]",
      "text/plain": [
       "<Figure size 576x576 with 5 Axes>"
      ]
     },
     "metadata": {
      "needs_background": "light"
     },
     "output_type": "display_data"
    }
   ],
   "source": [
    "fig = plt.figure(figsize=[8,8])\n",
    "fig.suptitle('BOXPLOT DATA', fontsize=12)\n",
    "fig.subplots_adjust(top=0.92)\n",
    "fig.subplots_adjust(hspace=0.5, wspace=0.4)\n",
    "\n",
    "for i ,col in enumerate(Num_cols):  \n",
    "    ax1 = fig.add_subplot(3, 2, i+1)\n",
    "    ax1 = sns.boxplot(data = df, x=col ,  color= colours[i])\n",
    " \n",
    "    ax1.set_title(f'{col}', fontdict=title_dict) \n",
    "    ax1.set_xlabel(f'{col}', fontdict=lab_dict)"
   ]
  },
  {
   "cell_type": "markdown",
   "id": "07c2fda9",
   "metadata": {},
   "source": [
    "Plot Insights:\n",
    "\n",
    "Customers with personal loan Have Much higher Income with a median of 145 compared\n",
    "to a median of customers not opting for personal loan of median 55.\n",
    "\n",
    "Customers who opted for personal loan have higher credit card avg spending with median 4.\n",
    "\n",
    "Customers who opted for personal loan have slightly higher mortgate.\n",
    "Age and Experience doesn't have much effect on personal loan."
   ]
  },
  {
   "cell_type": "markdown",
   "id": "cda98365",
   "metadata": {},
   "source": [
    "# Creating Dummies for Categ columns"
   ]
  },
  {
   "cell_type": "code",
   "execution_count": 27,
   "id": "6b570828",
   "metadata": {},
   "outputs": [
    {
     "data": {
      "text/html": [
       "<div>\n",
       "<style scoped>\n",
       "    .dataframe tbody tr th:only-of-type {\n",
       "        vertical-align: middle;\n",
       "    }\n",
       "\n",
       "    .dataframe tbody tr th {\n",
       "        vertical-align: top;\n",
       "    }\n",
       "\n",
       "    .dataframe thead th {\n",
       "        text-align: right;\n",
       "    }\n",
       "</style>\n",
       "<table border=\"1\" class=\"dataframe\">\n",
       "  <thead>\n",
       "    <tr style=\"text-align: right;\">\n",
       "      <th></th>\n",
       "      <th>Age</th>\n",
       "      <th>Experience</th>\n",
       "      <th>Income</th>\n",
       "      <th>CCAvg</th>\n",
       "      <th>Mortgage</th>\n",
       "      <th>Personal Loan</th>\n",
       "      <th>Family_1</th>\n",
       "      <th>Family_2</th>\n",
       "      <th>Family_3</th>\n",
       "      <th>Family_4</th>\n",
       "      <th>...</th>\n",
       "      <th>Education_2</th>\n",
       "      <th>Education_3</th>\n",
       "      <th>Securities Account_0</th>\n",
       "      <th>Securities Account_1</th>\n",
       "      <th>CD Account_0</th>\n",
       "      <th>CD Account_1</th>\n",
       "      <th>Online_0</th>\n",
       "      <th>Online_1</th>\n",
       "      <th>CreditCard_0</th>\n",
       "      <th>CreditCard_1</th>\n",
       "    </tr>\n",
       "  </thead>\n",
       "  <tbody>\n",
       "    <tr>\n",
       "      <th>0</th>\n",
       "      <td>25</td>\n",
       "      <td>1</td>\n",
       "      <td>49.0</td>\n",
       "      <td>1.6</td>\n",
       "      <td>0.0</td>\n",
       "      <td>0</td>\n",
       "      <td>0</td>\n",
       "      <td>0</td>\n",
       "      <td>0</td>\n",
       "      <td>1</td>\n",
       "      <td>...</td>\n",
       "      <td>0</td>\n",
       "      <td>0</td>\n",
       "      <td>0</td>\n",
       "      <td>1</td>\n",
       "      <td>1</td>\n",
       "      <td>0</td>\n",
       "      <td>1</td>\n",
       "      <td>0</td>\n",
       "      <td>1</td>\n",
       "      <td>0</td>\n",
       "    </tr>\n",
       "    <tr>\n",
       "      <th>1</th>\n",
       "      <td>45</td>\n",
       "      <td>19</td>\n",
       "      <td>34.0</td>\n",
       "      <td>1.5</td>\n",
       "      <td>0.0</td>\n",
       "      <td>0</td>\n",
       "      <td>0</td>\n",
       "      <td>0</td>\n",
       "      <td>1</td>\n",
       "      <td>0</td>\n",
       "      <td>...</td>\n",
       "      <td>0</td>\n",
       "      <td>0</td>\n",
       "      <td>0</td>\n",
       "      <td>1</td>\n",
       "      <td>1</td>\n",
       "      <td>0</td>\n",
       "      <td>1</td>\n",
       "      <td>0</td>\n",
       "      <td>1</td>\n",
       "      <td>0</td>\n",
       "    </tr>\n",
       "    <tr>\n",
       "      <th>2</th>\n",
       "      <td>39</td>\n",
       "      <td>15</td>\n",
       "      <td>11.0</td>\n",
       "      <td>1.0</td>\n",
       "      <td>0.0</td>\n",
       "      <td>0</td>\n",
       "      <td>1</td>\n",
       "      <td>0</td>\n",
       "      <td>0</td>\n",
       "      <td>0</td>\n",
       "      <td>...</td>\n",
       "      <td>0</td>\n",
       "      <td>0</td>\n",
       "      <td>1</td>\n",
       "      <td>0</td>\n",
       "      <td>1</td>\n",
       "      <td>0</td>\n",
       "      <td>1</td>\n",
       "      <td>0</td>\n",
       "      <td>1</td>\n",
       "      <td>0</td>\n",
       "    </tr>\n",
       "    <tr>\n",
       "      <th>3</th>\n",
       "      <td>35</td>\n",
       "      <td>9</td>\n",
       "      <td>100.0</td>\n",
       "      <td>2.7</td>\n",
       "      <td>0.0</td>\n",
       "      <td>0</td>\n",
       "      <td>1</td>\n",
       "      <td>0</td>\n",
       "      <td>0</td>\n",
       "      <td>0</td>\n",
       "      <td>...</td>\n",
       "      <td>1</td>\n",
       "      <td>0</td>\n",
       "      <td>1</td>\n",
       "      <td>0</td>\n",
       "      <td>1</td>\n",
       "      <td>0</td>\n",
       "      <td>1</td>\n",
       "      <td>0</td>\n",
       "      <td>1</td>\n",
       "      <td>0</td>\n",
       "    </tr>\n",
       "    <tr>\n",
       "      <th>4</th>\n",
       "      <td>35</td>\n",
       "      <td>8</td>\n",
       "      <td>45.0</td>\n",
       "      <td>1.0</td>\n",
       "      <td>0.0</td>\n",
       "      <td>0</td>\n",
       "      <td>0</td>\n",
       "      <td>0</td>\n",
       "      <td>0</td>\n",
       "      <td>1</td>\n",
       "      <td>...</td>\n",
       "      <td>1</td>\n",
       "      <td>0</td>\n",
       "      <td>1</td>\n",
       "      <td>0</td>\n",
       "      <td>1</td>\n",
       "      <td>0</td>\n",
       "      <td>1</td>\n",
       "      <td>0</td>\n",
       "      <td>0</td>\n",
       "      <td>1</td>\n",
       "    </tr>\n",
       "  </tbody>\n",
       "</table>\n",
       "<p>5 rows × 21 columns</p>\n",
       "</div>"
      ],
      "text/plain": [
       "   Age  Experience  Income  CCAvg  Mortgage  Personal Loan  Family_1  \\\n",
       "0   25           1    49.0    1.6       0.0              0         0   \n",
       "1   45          19    34.0    1.5       0.0              0         0   \n",
       "2   39          15    11.0    1.0       0.0              0         1   \n",
       "3   35           9   100.0    2.7       0.0              0         1   \n",
       "4   35           8    45.0    1.0       0.0              0         0   \n",
       "\n",
       "   Family_2  Family_3  Family_4  ...  Education_2  Education_3  \\\n",
       "0         0         0         1  ...            0            0   \n",
       "1         0         1         0  ...            0            0   \n",
       "2         0         0         0  ...            0            0   \n",
       "3         0         0         0  ...            1            0   \n",
       "4         0         0         1  ...            1            0   \n",
       "\n",
       "   Securities Account_0  Securities Account_1  CD Account_0  CD Account_1  \\\n",
       "0                     0                     1             1             0   \n",
       "1                     0                     1             1             0   \n",
       "2                     1                     0             1             0   \n",
       "3                     1                     0             1             0   \n",
       "4                     1                     0             1             0   \n",
       "\n",
       "   Online_0  Online_1  CreditCard_0  CreditCard_1  \n",
       "0         1         0             1             0  \n",
       "1         1         0             1             0  \n",
       "2         1         0             1             0  \n",
       "3         1         0             1             0  \n",
       "4         1         0             0             1  \n",
       "\n",
       "[5 rows x 21 columns]"
      ]
     },
     "execution_count": 27,
     "metadata": {},
     "output_type": "execute_result"
    }
   ],
   "source": [
    "dum_df = pd.get_dummies(df , columns = categ_columns)\n",
    "dum_df.head()"
   ]
  },
  {
   "cell_type": "markdown",
   "id": "bf7546da",
   "metadata": {},
   "source": [
    "# Modelling"
   ]
  },
  {
   "cell_type": "code",
   "execution_count": 28,
   "id": "d42ee0b2",
   "metadata": {},
   "outputs": [],
   "source": [
    "X = dum_df.drop('Personal Loan' , 1 )\n",
    "y = dum_df['Personal Loan']"
   ]
  },
  {
   "cell_type": "code",
   "execution_count": 29,
   "id": "75fe1542",
   "metadata": {},
   "outputs": [],
   "source": [
    "from sklearn.model_selection import train_test_split\n",
    "X_train , X_test , y_train , y_test = train_test_split(X , y  ,test_size = 0.33 , random_state = 42)"
   ]
  },
  {
   "cell_type": "code",
   "execution_count": 30,
   "id": "169c859b",
   "metadata": {},
   "outputs": [
    {
     "data": {
      "text/plain": [
       "((3350, 20), (3350,), (1650, 20), (1650,))"
      ]
     },
     "execution_count": 30,
     "metadata": {},
     "output_type": "execute_result"
    }
   ],
   "source": [
    "X_train.shape , y_train.shape , X_test.shape , y_test.shape "
   ]
  },
  {
   "cell_type": "code",
   "execution_count": 31,
   "id": "eaf9c4fc",
   "metadata": {},
   "outputs": [],
   "source": [
    "from sklearn.linear_model import LogisticRegression\n",
    "from sklearn.neighbors import KNeighborsClassifier\n",
    "from sklearn.ensemble import RandomForestClassifier\n",
    "from sklearn.tree import DecisionTreeClassifier\n",
    "from sklearn.svm import SVC\n",
    "from sklearn import metrics\n",
    "from sklearn.metrics import recall_score , classification_report , confusion_matrix  ,roc_curve , roc_auc_score , accuracy_score\n",
    "from sklearn.metrics import precision_recall_curve , auc ,f1_score , plot_confusion_matrix , precision_score , recall_score\n",
    "from sklearn.tree import DecisionTreeClassifier"
   ]
  },
  {
   "cell_type": "code",
   "execution_count": 32,
   "id": "082206d8",
   "metadata": {},
   "outputs": [],
   "source": [
    "def confusion_matrix_plot(X_test , y_test , classifier ,classifier_name):\n",
    "    ax = plot_confusion_matrix(classifier, X_test, y_test, display_labels=[\"No Personal Loan\", \"Personal Loan\"], cmap=plt.cm.Blues, normalize='true')"
   ]
  },
  {
   "cell_type": "markdown",
   "id": "37c5855a",
   "metadata": {},
   "source": [
    "# Logistic Regression"
   ]
  },
  {
   "cell_type": "code",
   "execution_count": 49,
   "id": "6223ff56",
   "metadata": {},
   "outputs": [
    {
     "data": {
      "text/plain": [
       "LogisticRegression(random_state=0)"
      ]
     },
     "execution_count": 49,
     "metadata": {},
     "output_type": "execute_result"
    }
   ],
   "source": [
    "lr= LogisticRegression(random_state=0)  \n",
    "\n",
    "lr.fit(X_train, y_train) "
   ]
  },
  {
   "cell_type": "code",
   "execution_count": 50,
   "id": "97b871b9",
   "metadata": {},
   "outputs": [
    {
     "data": {
      "text/plain": [
       "0.9660606060606061"
      ]
     },
     "execution_count": 50,
     "metadata": {},
     "output_type": "execute_result"
    }
   ],
   "source": [
    "y_pred = lr.predict(X_test)\n",
    "lr.score(X_test , y_test)"
   ]
  },
  {
   "cell_type": "code",
   "execution_count": 51,
   "id": "f80511e8",
   "metadata": {},
   "outputs": [
    {
     "data": {
      "text/plain": [
       "array([[1468,   12],\n",
       "       [  44,  126]], dtype=int64)"
      ]
     },
     "execution_count": 51,
     "metadata": {},
     "output_type": "execute_result"
    }
   ],
   "source": [
    "confusion_matrix(y_test,y_pred)"
   ]
  },
  {
   "cell_type": "code",
   "execution_count": 52,
   "id": "bba52ecd",
   "metadata": {},
   "outputs": [
    {
     "name": "stdout",
     "output_type": "stream",
     "text": [
      "              precision    recall  f1-score   support\n",
      "\n",
      "           0       0.97      0.99      0.98      1480\n",
      "           1       0.91      0.74      0.82       170\n",
      "\n",
      "    accuracy                           0.97      1650\n",
      "   macro avg       0.94      0.87      0.90      1650\n",
      "weighted avg       0.96      0.97      0.96      1650\n",
      "\n"
     ]
    },
    {
     "data": {
      "image/png": "[encoded data removed]",
      "text/plain": [
       "<Figure size 432x288 with 2 Axes>"
      ]
     },
     "metadata": {
      "needs_background": "light"
     },
     "output_type": "display_data"
    }
   ],
   "source": [
    "print(classification_report(y_test,y_pred))\n",
    "confusion_matrix_plot(X_test , y_test , lr , \"Logistic Regression\")"
   ]
  },
  {
   "cell_type": "markdown",
   "id": "2342f490",
   "metadata": {},
   "source": [
    "# KNN Classifier"
   ]
  },
  {
   "cell_type": "code",
   "execution_count": 37,
   "id": "d3ea21fe",
   "metadata": {},
   "outputs": [
    {
     "data": {
      "text/plain": [
       "0.8927272727272727"
      ]
     },
     "execution_count": 37,
     "metadata": {},
     "output_type": "execute_result"
    }
   ],
   "source": [
    "knn = KNeighborsClassifier()\n",
    "knn.fit(X_train, y_train)\n",
    "y_pred = knn.predict(X_test)\n",
    "knn.score(X_test , y_test)"
   ]
  },
  {
   "cell_type": "code",
   "execution_count": 38,
   "id": "27cf23c7",
   "metadata": {},
   "outputs": [
    {
     "name": "stdout",
     "output_type": "stream",
     "text": [
      "              precision    recall  f1-score   support\n",
      "\n",
      "           0       0.91      0.97      0.94      1480\n",
      "           1       0.46      0.21      0.29       170\n",
      "\n",
      "    accuracy                           0.89      1650\n",
      "   macro avg       0.69      0.59      0.62      1650\n",
      "weighted avg       0.87      0.89      0.87      1650\n",
      "\n"
     ]
    },
    {
     "data": {
      "image/png": "[encoded data removed]",
      "text/plain": [
       "<Figure size 432x288 with 2 Axes>"
      ]
     },
     "metadata": {
      "needs_background": "light"
     },
     "output_type": "display_data"
    }
   ],
   "source": [
    "print(classification_report(y_test,y_pred))\n",
    "confusion_matrix_plot(X_test , y_test , knn , \"Knn Classifier\")"
   ]
  },
  {
   "cell_type": "markdown",
   "id": "5bb1367c",
   "metadata": {},
   "source": [
    "# Random Forest Classifier"
   ]
  },
  {
   "cell_type": "code",
   "execution_count": 39,
   "id": "7a38aebc",
   "metadata": {},
   "outputs": [
    {
     "data": {
      "text/plain": [
       "0.990909090909091"
      ]
     },
     "execution_count": 39,
     "metadata": {},
     "output_type": "execute_result"
    }
   ],
   "source": [
    "Rf = RandomForestClassifier()\n",
    "Rf.fit(X_train, y_train)\n",
    "y_pred = Rf.predict(X_test)\n",
    "Rf.score(X_test , y_test) "
   ]
  },
  {
   "cell_type": "code",
   "execution_count": 40,
   "id": "546a3851",
   "metadata": {},
   "outputs": [
    {
     "name": "stdout",
     "output_type": "stream",
     "text": [
      "              precision    recall  f1-score   support\n",
      "\n",
      "           0       0.99      1.00      0.99      1480\n",
      "           1       0.99      0.92      0.95       170\n",
      "\n",
      "    accuracy                           0.99      1650\n",
      "   macro avg       0.99      0.96      0.97      1650\n",
      "weighted avg       0.99      0.99      0.99      1650\n",
      "\n"
     ]
    },
    {
     "data": {
      "image/png": "[encoded data removed]",
      "text/plain": [
       "<Figure size 432x288 with 2 Axes>"
      ]
     },
     "metadata": {
      "needs_background": "light"
     },
     "output_type": "display_data"
    }
   ],
   "source": [
    "print(classification_report(y_test,y_pred))\n",
    "confusion_matrix_plot(X_test , y_test , Rf , \"Random Forest Classifier\")"
   ]
  },
  {
   "cell_type": "markdown",
   "id": "5163b48c",
   "metadata": {},
   "source": [
    "# Support Vector Machine"
   ]
  },
  {
   "cell_type": "code",
   "execution_count": 41,
   "id": "39fcf9d1",
   "metadata": {},
   "outputs": [
    {
     "data": {
      "text/plain": [
       "0.9"
      ]
     },
     "execution_count": 41,
     "metadata": {},
     "output_type": "execute_result"
    }
   ],
   "source": [
    "svm = SVC(kernel='rbf', probability=True) \n",
    "svm.fit(X_train,y_train)\n",
    "y_pred = svm.predict(X_test)\n",
    "svm.score(X_test , y_test) "
   ]
  },
  {
   "cell_type": "code",
   "execution_count": 42,
   "id": "b52aa502",
   "metadata": {},
   "outputs": [
    {
     "name": "stdout",
     "output_type": "stream",
     "text": [
      "              precision    recall  f1-score   support\n",
      "\n",
      "           0       0.91      0.99      0.95      1480\n",
      "           1       0.57      0.12      0.20       170\n",
      "\n",
      "    accuracy                           0.90      1650\n",
      "   macro avg       0.74      0.56      0.57      1650\n",
      "weighted avg       0.87      0.90      0.87      1650\n",
      "\n"
     ]
    },
    {
     "data": {
      "image/png": "[encoded data removed]",
      "text/plain": [
       "<Figure size 432x288 with 2 Axes>"
      ]
     },
     "metadata": {
      "needs_background": "light"
     },
     "output_type": "display_data"
    }
   ],
   "source": [
    "print(classification_report(y_test,y_pred))\n",
    "confusion_matrix_plot(X_test , y_test , svm , \"Support Vector Machine\")"
   ]
  },
  {
   "cell_type": "markdown",
   "id": "481cefee",
   "metadata": {},
   "source": [
    "# DecisionTreeClassifier"
   ]
  },
  {
   "cell_type": "code",
   "execution_count": 43,
   "id": "30d875fa",
   "metadata": {},
   "outputs": [
    {
     "data": {
      "text/plain": [
       "0.983030303030303"
      ]
     },
     "execution_count": 43,
     "metadata": {},
     "output_type": "execute_result"
    }
   ],
   "source": [
    "dtc = DecisionTreeClassifier()\n",
    "dtc.fit(X_train, y_train)\n",
    "y_pred = dtc.predict(X_test)\n",
    "dtc.score(X_test , y_test) "
   ]
  },
  {
   "cell_type": "code",
   "execution_count": 44,
   "id": "9f43a467",
   "metadata": {},
   "outputs": [
    {
     "name": "stdout",
     "output_type": "stream",
     "text": [
      "              precision    recall  f1-score   support\n",
      "\n",
      "           0       0.99      0.99      0.99      1480\n",
      "           1       0.92      0.91      0.92       170\n",
      "\n",
      "    accuracy                           0.98      1650\n",
      "   macro avg       0.96      0.95      0.95      1650\n",
      "weighted avg       0.98      0.98      0.98      1650\n",
      "\n"
     ]
    },
    {
     "data": {
      "image/png": "[encoded data removed]",
      "text/plain": [
       "<Figure size 432x288 with 2 Axes>"
      ]
     },
     "metadata": {
      "needs_background": "light"
     },
     "output_type": "display_data"
    }
   ],
   "source": [
    "print(classification_report(y_test,y_pred))\n",
    "confusion_matrix_plot(X_test , y_test , dtc , \"Decision Tree Classifier\")"
   ]
  },
  {
   "cell_type": "markdown",
   "id": "66bbfb4e",
   "metadata": {},
   "source": [
    "# Conclusion:\n",
    "\n",
    "Here we can say that the bank should give more attractive offers to their customer base and there is no churn happening \n",
    "or the sales happening and customers going to other banks they stay banking with us and when even they require any Loan\n",
    "they approach to us at the first instance"
   ]
  },
  {
   "cell_type": "code",
   "execution_count": null,
   "id": "45bbec3d",
   "metadata": {},
   "outputs": [],
   "source": []
  }
 ],
 "metadata": {
  "kernelspec": {
   "display_name": "Python 3 (ipykernel)",
   "language": "python",
   "name": "python3"
  },
  "language_info": {
   "codemirror_mode": {
    "name": "ipython",
    "version": 3
   },
   "file_extension": ".py",
   "mimetype": "text/x-python",
   "name": "python",
   "nbconvert_exporter": "python",
   "pygments_lexer": "ipython3",
   "version": "3.9.7"
  }
 },
 "nbformat": 4,
 "nbformat_minor": 5
}
